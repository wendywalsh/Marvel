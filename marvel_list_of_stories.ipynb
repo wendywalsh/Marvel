{
 "cells": [
  {
   "cell_type": "code",
   "execution_count": 4,
   "metadata": {
    "collapsed": true
   },
   "outputs": [],
   "source": [
    "import json\n",
    "import tweepy\n",
    "import pandas as pd\n",
    "import requests\n",
    "from config import public_key, private_key"
   ]
  },
  {
   "cell_type": "code",
   "execution_count": 10,
   "metadata": {},
   "outputs": [
    {
     "name": "stdout",
     "output_type": "stream",
     "text": [
      "{'code': 'MissingParameter', 'message': 'You must provide a hash.'}\n"
     ]
    }
   ],
   "source": [
    "url = \"https://gateway.marvel.com:443/v1/public/comics?apikey=\"\n",
    "api_key = \"f4125657613b58ddfa0edfef4e941a66\"\n",
    "\n",
    "# Performing a GET request similar to the one we executed\n",
    "# earlier\n",
    "response = requests.get(\"https://gateway.marvel.com:443/v1/public/comics?apikey=f4125657613b58ddfa0edfef4e941a66\")\n",
    "\n",
    "# Converting the response to JSON, and printing the result.\n",
    "json = response.json()\n",
    "print(json)"
   ]
  },
  {
   "cell_type": "code",
   "execution_count": null,
   "metadata": {
    "collapsed": true
   },
   "outputs": [],
   "source": [
    "f4125657613b58ddfa0edfef4e941a66"
   ]
  },
  {
   "cell_type": "code",
   "execution_count": 23,
   "metadata": {},
   "outputs": [
    {
     "name": "stdout",
     "output_type": "stream",
     "text": [
      "{'Title': 'Aliens', 'Year': '1986', 'Rated': 'R', 'Released': '18 Jul 1986', 'Runtime': '137 min', 'Genre': 'Action, Adventure, Sci-Fi', 'Director': 'James Cameron', 'Writer': \"James Cameron (story by), David Giler (story by), Walter Hill (story by), Dan O'Bannon (based on characters created by), Ronald Shusett (based on characters created by), James Cameron (screenplay by)\", 'Actors': 'Sigourney Weaver, Carrie Henn, Michael Biehn, Paul Reiser', 'Plot': '57 years later, Ellen Ripley is rescued by a deep salvage team during her hypersleep. The moon from the original movie has been colonized, but contact is lost. This time, colonial marines have impressive firepower, but will that be enough?', 'Language': 'English', 'Country': 'USA, UK', 'Awards': 'Won 2 Oscars. Another 18 wins & 22 nominations.', 'Poster': 'https://images-na.ssl-images-amazon.com/images/M/MV5BYzVlMWViZGEtYjEyYy00YWZmLThmZGEtYmM4MDZlN2Q5MmRmXkEyXkFqcGdeQXVyMTQxNzMzNDI@._V1_SX300.jpg', 'Ratings': [{'Source': 'Internet Movie Database', 'Value': '8.4/10'}, {'Source': 'Rotten Tomatoes', 'Value': '98%'}, {'Source': 'Metacritic', 'Value': '86/100'}], 'Metascore': '86', 'imdbRating': '8.4', 'imdbVotes': '542,461', 'imdbID': 'tt0090605', 'Type': 'movie', 'DVD': '01 Jun 1999', 'BoxOffice': 'N/A', 'Production': '20th Century Fox Film Corporat', 'Website': 'N/A', 'Response': 'True'}\n",
      "Movie was directed by James Cameron\n",
      "Movie was released in USA, UK\n"
     ]
    }
   ],
   "source": []
  },
  {
   "cell_type": "code",
   "execution_count": 27,
   "metadata": {},
   "outputs": [
    {
     "name": "stdout",
     "output_type": "stream",
     "text": [
      "The director of X-Men was Richard Franklin.\n"
     ]
    }
   ],
   "source": [
    "# Dependencies\n",
    "import requests as req\n",
    "\n",
    "url = \"http://www.omdbapi.com/?apikey=f39952c&t=\"\n",
    "\n",
    "# Who was the director of the movie Aliens?\n",
    "movie = req.get(url + \"X2\").json()\n",
    "print(\"The director of X-Men was \" + movie[\"Director\"] + \".\")\n",
    "\n"
   ]
  },
  {
   "cell_type": "code",
   "execution_count": null,
   "metadata": {
    "collapsed": true
   },
   "outputs": [],
   "source": []
  }
 ],
 "metadata": {
  "kernelspec": {
   "display_name": "Python 3",
   "language": "python",
   "name": "python3"
  },
  "language_info": {
   "codemirror_mode": {
    "name": "ipython",
    "version": 3
   },
   "file_extension": ".py",
   "mimetype": "text/x-python",
   "name": "python",
   "nbconvert_exporter": "python",
   "pygments_lexer": "ipython3",
   "version": "3.6.2"
  }
 },
 "nbformat": 4,
 "nbformat_minor": 2
}
