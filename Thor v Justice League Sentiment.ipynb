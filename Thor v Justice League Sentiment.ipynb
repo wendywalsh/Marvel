{
 "cells": [
  {
   "cell_type": "code",
   "execution_count": 1,
   "metadata": {
    "collapsed": false
   },
   "outputs": [],
   "source": [
    "# Dependencies\n",
    "import tweepy\n",
    "import numpy as np\n",
    "\n",
    "# Import and Initialize Sentiment Analyzer\n",
    "from vaderSentiment.vaderSentiment import SentimentIntensityAnalyzer\n",
    "analyzer = SentimentIntensityAnalyzer()\n",
    "\n",
    "# Twitter API Keys\n",
    "from api_keys import (twitter_consumer_key, \n",
    "                    twitter_consumer_key_secret, \n",
    "                    twitter_access_token, \n",
    "                    twitter_access_token_secret)\n",
    "\n",
    "# Setup Tweepy API Authentication\n",
    "auth = tweepy.OAuthHandler(twitter_consumer_key, twitter_consumer_key_secret)\n",
    "auth.set_access_token(twitter_access_token, twitter_access_token_secret)\n",
    "api = tweepy.API(auth, parser=tweepy.parsers.JSONParser())"
   ]
  },
  {
   "cell_type": "code",
   "execution_count": 6,
   "metadata": {
    "collapsed": false
   },
   "outputs": [
    {
     "name": "stdout",
     "output_type": "stream",
     "text": [
      "{'User': 'Thor', 'Compound': -0.23003804809052333, 'Positive': 0.031138613861386139, 'Negative': 0.13200990099009899, 'Neutral': 0.83685007072135786, 'Tweet Count': 707}\n",
      "\n",
      "{'User': 'Justice League', 'Compound': 0.39345646153846148, 'Positive': 0.25004615384615386, 'Negative': 0.056716923076923074, 'Neutral': 0.69324153846153846, 'Tweet Count': 650}\n",
      "\n"
     ]
    }
   ],
   "source": [
    "# Target Search Term\n",
    "target_terms = (\"Thor\", \"Justice League\")\n",
    "\n",
    "# \"Real Person\" Filters\n",
    "min_tweets = 5\n",
    "max_tweets = 100000\n",
    "max_followers = 1000000000\n",
    "max_following = 50000\n",
    "lang = \"en\"\n",
    "\n",
    "# Array to hold sentiment\n",
    "sentiment_array = []\n",
    "\n",
    "# Loop through all target users\n",
    "for target in target_terms:\n",
    "\n",
    "    # Variable for holding the oldest tweet\n",
    "    oldest_tweet = None\n",
    "\n",
    "    # Variables for holding sentiments\n",
    "    compound_list = []\n",
    "    positive_list = []\n",
    "    negative_list = []\n",
    "    neutral_list = []\n",
    "\n",
    "    # Loop through 10 times\n",
    "    for x in range(10):\n",
    "\n",
    "        # Run search around each tweet\n",
    "        public_tweets = api.search(\n",
    "            target, count=100, result_type=\"recent\", max_id=oldest_tweet)\n",
    "\n",
    "        # Loop through all tweets\n",
    "        for tweet in public_tweets[\"statuses\"]:\n",
    "\n",
    "            # Use filters to check if user meets conditions\n",
    "            if (tweet[\"user\"][\"followers_count\"] < max_followers\n",
    "                and tweet[\"user\"][\"statuses_count\"] > min_tweets\n",
    "                and tweet[\"user\"][\"statuses_count\"] < max_tweets\n",
    "                and tweet[\"user\"][\"friends_count\"] < max_following\n",
    "                and tweet[\"user\"][\"lang\"] == lang):\n",
    "\n",
    "                # Run Vader Analysis on each tweet\n",
    "                results = analyzer.polarity_scores(tweet[\"text\"])\n",
    "                compound = results[\"compound\"]\n",
    "                pos = results[\"pos\"]\n",
    "                neu = results[\"neu\"]\n",
    "                neg = results[\"neg\"]\n",
    "\n",
    "                # Add each value to the appropriate array\n",
    "                compound_list.append(compound)\n",
    "                positive_list.append(pos)\n",
    "                negative_list.append(neg)\n",
    "                neutral_list.append(neu)\n",
    "                \n",
    "                # Set the new oldest_tweet value\n",
    "                oldest_tweet = int(tweet[\"id_str\"]) - 1\n",
    "\n",
    "    # Store the Average Sentiments\n",
    "    sentiment = {\n",
    "        \"User\": target,\n",
    "        \"Compound\": np.mean(compound_list),\n",
    "        \"Positive\": np.mean(positive_list),\n",
    "        \"Negative\": np.mean(negative_list),\n",
    "        \"Neutral\": np.mean(neutral_list),\n",
    "        \"Tweet Count\": len(compound_list)\n",
    "    }\n",
    "\n",
    "    # Print the Sentiments\n",
    "    print(sentiment)\n",
    "    print()"
   ]
  }
 ],
 "metadata": {
  "kernelspec": {
   "display_name": "Python 3",
   "language": "python",
   "name": "python3"
  },
  "language_info": {
   "codemirror_mode": {
    "name": "ipython",
    "version": 3
   },
   "file_extension": ".py",
   "mimetype": "text/x-python",
   "name": "python",
   "nbconvert_exporter": "python",
   "pygments_lexer": "ipython3",
   "version": "3.6.0"
  }
 },
 "nbformat": 4,
 "nbformat_minor": 2
}
