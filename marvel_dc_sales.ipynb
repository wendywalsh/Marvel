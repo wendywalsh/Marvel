{
 "cells": [
  {
   "cell_type": "markdown",
   "metadata": {},
   "source": [
    "Wendy Total Movie Sales – Marvel vs DC Type of Graph: Line Graph X-axis: 1 to 20 years Y-axis: Sales What do we want to find out? Over 20 years, did Marvel sell tickets than DC.\n",
    "\n"
   ]
  },
  {
   "cell_type": "code",
   "execution_count": null,
   "metadata": {},
   "outputs": [],
   "source": [
    "import pandas as pd\n",
    "import matplotlib.pyplot as plt\n",
    "from matplotlib import style\n",
    "style.use('ggplot')\n",
    "import numpy as np\n",
    "import requests\n"
   ]
  },
  {
   "cell_type": "code",
   "execution_count": null,
   "metadata": {},
   "outputs": [],
   "source": [
    "# CSV file into dataframe  (https://www.statcrunch.com/app/index.php?dataid=1150559)\n",
    "marvel_dc_movie_list = pd.read_csv('dc_and_marvel_sales_1966-2016.csv').sort_values([\"Company\",\"Release\"])\n",
    "marvel_dc_movie_list.head(25)\n"
   ]
  },
  {
   "cell_type": "code",
   "execution_count": null,
   "metadata": {},
   "outputs": [],
   "source": [
    "#Marvel list of movies\n",
    "marvel_movies =marvel_dc_movie_list.loc[marvel_dc_movie_list['Company'] == 'Marvel']\n",
    "marvel_movies=pd.DataFrame(marvel_movies)\n",
    "marvel_movies.head()"
   ]
  },
  {
   "cell_type": "code",
   "execution_count": null,
   "metadata": {},
   "outputs": [],
   "source": [
    "dc_movies =marvel_dc_movie_list.loc[marvel_dc_movie_list['Company'] == 'DC']\n",
    "dc_movies=pd.DataFrame(dc_movies)\n",
    "dc_movies.head()"
   ]
  },
  {
   "cell_type": "markdown",
   "metadata": {},
   "source": [
    "### Sales by year"
   ]
  },
  {
   "cell_type": "code",
   "execution_count": null,
   "metadata": {},
   "outputs": [],
   "source": [
    "#Marvel movies grouped by year and domestic sales\n",
    "grouped_marvel_movies =marvel_dc_movie_list.loc[marvel_dc_movie_list['Company'] == 'Marvel'].groupby('Release')['Domestic'].sum()\n",
    "grouped_marvel_movies =pd.DataFrame(grouped_marvel_movies)\n",
    "grouped_marvel_movies.head()"
   ]
  },
  {
   "cell_type": "code",
   "execution_count": null,
   "metadata": {},
   "outputs": [],
   "source": [
    "#DC grouped by year and domestic sales\n",
    "grouped_dc_movies = marvel_dc_movie_list.loc[marvel_dc_movie_list['Company'] == 'DC'].groupby('Release')['Domestic'].sum()#.reset_index(drop =False)\n",
    "grouped_dc_movies =pd.DataFrame(grouped_dc_movies )\n",
    "grouped_dc_movies.head()"
   ]
  },
  {
   "cell_type": "code",
   "execution_count": null,
   "metadata": {},
   "outputs": [],
   "source": [
    "grouped_marvel_movies[\"Domestic\"].plot(kind='bar', color =\"red\")\n",
    "\n",
    "plt.title(\"Marvel Box Office Sales by year\")\n",
    "plt.xlabel(\"Year\")\n",
    "plt.ylabel(\"US Domestic Sales (million)\")\n",
    "\n",
    "# Incorporate a text label regarding circle size\n",
    "#plt.text(42, 35, \"Note: 1986 Fist feature length film recognized by OMDB and wikipedia\"\\\n",
    "#                        \"Total number of year with movie produced = 18\")\n",
    "\n",
    "# Save Figure\n",
    "plt.savefig(\"Marvel_Sales.png\")\n",
    "\n",
    "plt.show()\n",
    "\n"
   ]
  },
  {
   "cell_type": "code",
   "execution_count": null,
   "metadata": {},
   "outputs": [],
   "source": [
    "grouped_dc_movies[\"Domestic\"].plot(kind='bar', color =\"darkblue\")\n",
    "\n",
    "plt.title(\"DC Box Office Sales by year\")\n",
    "plt.xlabel(\"Year\")\n",
    "plt.ylabel(\"US Domestic Sales (million)\")\n",
    "\n",
    "plt.savefig(\"DC_Sales.png\")\n",
    "plt.show()"
   ]
  },
  {
   "cell_type": "code",
   "execution_count": null,
   "metadata": {},
   "outputs": [],
   "source": [
    "grouped_dc_movies[\"Domestic\"].plot(kind='line', color =\"darkblue\", label =\"DC\")\n",
    "grouped_marvel_movies[\"Domestic\"].plot(kind='line', color =\"red\", label=\"Marvel\")\n",
    "\n",
    "plt.title(\"Marvel vs DC Box Office Sales\")\n",
    "plt.xlabel(\"Year\")\n",
    "plt.ylabel(\"Domestic Sales ($million)\")\n",
    "plt.savefig(\"Domestic Sales.png\")\n",
    "\n",
    "plt.legend(loc=\"best\")\n",
    "plt.show()"
   ]
  },
  {
   "cell_type": "markdown",
   "metadata": {},
   "source": [
    "### Average sales per movie Marvel v DC"
   ]
  },
  {
   "cell_type": "code",
   "execution_count": null,
   "metadata": {},
   "outputs": [],
   "source": [
    "marvel_dc_movie_list.groupby('Company')[\"Domestic\"].sum()/marvel_dc_movie_list.groupby('Company')[\"Film\"].count()"
   ]
  },
  {
   "cell_type": "code",
   "execution_count": null,
   "metadata": {},
   "outputs": [],
   "source": [
    "x_axis= [\"DC\",\"Marvel\"] \n",
    "y_axis = [134.836550, 194.378488]\n",
    "\n",
    "barlist = plt.bar(x_axis,y_axis ,alpha=1, align=\"center\")\n",
    "\n",
    "barlist[0].set_color('darkblue')\n",
    "barlist[1].set_color('red')\n",
    "\n",
    "def autolabel(barlist):\n",
    "    \"\"\"\n",
    "    Attach a text label above each bar displaying its height\n",
    "    \"\"\"\n",
    "    counter =0\n",
    "    for rect in barlist.get_children():\n",
    "\n",
    "        height = rect.get_height()\n",
    "        plt.text(rect.get_x() + rect.get_width()/2., 1*height,y_axis[counter],\n",
    "                ha='center', va='bottom')\n",
    "        counter +=1\n",
    "autolabel(barlist)\n",
    "#avg_sales.plot.bar()\n",
    "\n",
    "plt.title(\"Average Sales per Movie (millions)\")\n",
    "plt.savefig(\"AVG_Sales.png\")\n",
    "plt.show()"
   ]
  },
  {
   "cell_type": "code",
   "execution_count": null,
   "metadata": {},
   "outputs": [],
   "source": [
    "marvel_dc_movie_list.groupby('Company')[\"Domestic\"].median()"
   ]
  },
  {
   "cell_type": "code",
   "execution_count": null,
   "metadata": {
    "scrolled": true
   },
   "outputs": [],
   "source": [
    "x_axis= [\"DC\",\"Marvel\"] \n",
    "y_axis = [107.417497, 178.428334]\n",
    "\n",
    "barlist = plt.bar(x_axis,y_axis ,alpha=1, align=\"center\")\n",
    "\n",
    "barlist[0].set_color('darkblue')\n",
    "barlist[1].set_color('red')\n",
    "\n",
    "def autolabel(barlist):\n",
    "    \"\"\"\n",
    "    Attach a text label above each bar displaying its height\n",
    "    \"\"\"\n",
    "    counter =0\n",
    "    for rect in barlist.get_children():\n",
    "\n",
    "        height = rect.get_height()\n",
    "        plt.text(rect.get_x() + rect.get_width()/2., 1*height,y_axis[counter],\n",
    "                ha='center', va='bottom')\n",
    "        counter +=1\n",
    "autolabel(barlist)\n",
    "\n",
    "\n",
    "plt.title(\"Median sale per Movie (millions)\")\n",
    "plt.savefig(\"Median_Sales.png\")\n",
    "plt.show()\n"
   ]
  },
  {
   "cell_type": "markdown",
   "metadata": {},
   "source": [
    "### Marvel: Number of movies released per Year"
   ]
  },
  {
   "cell_type": "code",
   "execution_count": null,
   "metadata": {},
   "outputs": [],
   "source": [
    "marvel_movie_count =marvel_movies.groupby(['Release']).agg({\"Film\":\"size\"})\n",
    "                                                      \n",
    "marvel_movie_count=pd.DataFrame(marvel_movie_count)\n",
    "marvel_movie_count.head()"
   ]
  },
  {
   "cell_type": "code",
   "execution_count": null,
   "metadata": {},
   "outputs": [],
   "source": [
    "# DC count of movie releases per year\n",
    "dc_movies_count =marvel_dc_movie_list.loc[marvel_dc_movie_list['Company'] == 'DC'].groupby(['Release']).agg({\"Film\":\"size\"})\\\n",
    "                                                                            \n",
    "dc_movies_count=pd.DataFrame(dc_movies_count)\n",
    "dc_movies_count.head()\n"
   ]
  },
  {
   "cell_type": "code",
   "execution_count": null,
   "metadata": {},
   "outputs": [],
   "source": [
    "marvel_movie_count[\"Film\"].plot(kind='bar', color =\"red\")\n",
    "\n",
    "plt.title(\"Marvel: Total Movies Released per Year\")\n",
    "plt.xlabel(\"Year\")\n",
    "plt.ylabel(\"Count\")\n",
    "\n",
    "# Incorporate a text label regarding circle size\n",
    "#plt.text(42, 35, \"Note: 1986 Fist feature length film recognized by OMDB and wikipedia\"\\\n",
    "#                        \"Total number of year with movie produced = 18\")\n",
    "\n",
    "# Save Figure\n",
    "plt.savefig(\"Marvel_Count.png\")\n",
    "\n",
    "plt.show()"
   ]
  },
  {
   "cell_type": "code",
   "execution_count": null,
   "metadata": {},
   "outputs": [],
   "source": [
    "dc_movies_count[\"Film\"].plot(kind='bar', color =\"darkblue\")\n",
    "\n",
    "plt.title(\"DC: Total Movies Released per Year\")\n",
    "plt.xlabel(\"Year\")\n",
    "plt.ylabel(\"Count\")\n",
    "\n",
    "# Incorporate a text label regarding circle size\n",
    "#plt.text(42, 35, \"Note: 1986 Fist feature length film recognized by OMDB and wikipedia\"\\\n",
    "#                        \"Total number of year with movie produced = 18\")\n",
    "\n",
    "# Save Figure\n",
    "plt.savefig(\"DC_Count.png\")\n",
    "\n",
    "plt.show()"
   ]
  },
  {
   "cell_type": "code",
   "execution_count": null,
   "metadata": {},
   "outputs": [],
   "source": [
    "marvel_dc_movie_list.groupby('Company')[\"Film\"].count()"
   ]
  },
  {
   "cell_type": "code",
   "execution_count": null,
   "metadata": {},
   "outputs": [],
   "source": [
    "x_axis= [\"DC\",\"Marvel\"] \n",
    "y_axis = [28, 40]\n",
    "\n",
    "barlist = plt.bar(x_axis,y_axis ,alpha=1, align=\"center\")\n",
    "\n",
    "barlist[0].set_color('darkblue')\n",
    "barlist[1].set_color('red')\n",
    "\n",
    "def autolabel(barlist):\n",
    "    \"\"\"\n",
    "    Attach a text label above each bar displaying its height\n",
    "    \"\"\"\n",
    "    counter =0\n",
    "    for rect in barlist.get_children():\n",
    "\n",
    "        height = rect.get_height()\n",
    "        plt.text(rect.get_x() + rect.get_width()/2., 1*height,y_axis[counter],\n",
    "                ha='center', va='bottom')\n",
    "        counter +=1\n",
    "autolabel(barlist)\n",
    "\n",
    "\n",
    "plt.title(\"Total Movies Released\")\n",
    "plt.savefig(\"Total_release.png\")\n",
    "plt.show()\n"
   ]
  },
  {
   "cell_type": "markdown",
   "metadata": {},
   "source": [
    "### Super-Hero Movie sales"
   ]
  },
  {
   "cell_type": "code",
   "execution_count": null,
   "metadata": {},
   "outputs": [],
   "source": [
    "#Total sales of all movies Marvel and DC\n",
    "both_total_sales =marvel_dc_movie_list.groupby('Release')[\"Domestic\"].sum()\n",
    "\n",
    "both_total_sales.plot(kind='bar', color =\"darkgreen\")\n",
    "\n",
    "\n",
    "plt.title(\"Total Super-Hero Movie Sales\")\n",
    "plt.xlabel(\"Year\")\n",
    "plt.ylabel(\"US Domestic Sales (million)\")\n",
    "\n",
    "# Incorporate a text label regarding circle size\n",
    "#plt.text(42, 35, \"Note: 1986 Fist feature length film recognized by OMDB and wikipedia\"\\\n",
    "#                        \"Total number of year with movie produced = 18\")\n",
    "\n",
    "# Save Figure\n",
    "plt.savefig(\"Total_sales.png\")\n",
    "\n",
    "plt.show()"
   ]
  },
  {
   "cell_type": "code",
   "execution_count": null,
   "metadata": {
    "scrolled": true
   },
   "outputs": [],
   "source": [
    "dc_movies[\"Domestic\"].hist(bins=5, color=\"darkblue\")\n",
    "plt.title(\"Histogram: DC Box Office Sales per Movie\")\n",
    "plt.savefig(\"Histogram DC Sales per movie.png\")\n",
    "plt.show()"
   ]
  },
  {
   "cell_type": "code",
   "execution_count": null,
   "metadata": {},
   "outputs": [],
   "source": [
    "marvel_movies[\"Domestic\"].hist(bins=5, color=\"red\")\n",
    "plt.title(\"Histogram: Marvel Box Office Sales per Movie\")\n",
    "plt.savefig(\"Histogram Marvel Sales per movie.png\")\n",
    "plt.show()"
   ]
  },
  {
   "cell_type": "code",
   "execution_count": null,
   "metadata": {},
   "outputs": [],
   "source": [
    "grouped_marvel_movies[\"Domestic\"].hist(bins=5, color =\"red\")\n",
    "plt.title(\"Histogram: Marvel Box Office Sales by year\")\n",
    "plt.savefig(\"Histogram Marvel Sales by year.png\")\n",
    "plt.show()"
   ]
  },
  {
   "cell_type": "code",
   "execution_count": null,
   "metadata": {},
   "outputs": [],
   "source": [
    "grouped_dc_movies[\"Domestic\"].hist(bins=5, color =\"darkblue\")\n",
    "plt.title(\"Histogram: DC Box Office Sales by year\")\n",
    "plt.savefig(\"Histogram DC Sales by year.png\")\n",
    "plt.show()"
   ]
  },
  {
   "cell_type": "code",
   "execution_count": null,
   "metadata": {},
   "outputs": [],
   "source": [
    "marvel_dc_movie_list[\"Domestic\"].hist(bins=5, color =\"darkgreen\")\n",
    "plt.title(\"Histogram: Super-Hero Box Office Sales by movie\")\n",
    "plt.savefig(\"Histogram_total_Sales.png\")\n",
    "plt.savefig(\"Histogram Total Sales.png\")\n",
    "plt.show()\n"
   ]
  },
  {
   "cell_type": "code",
   "execution_count": null,
   "metadata": {},
   "outputs": [],
   "source": [
    "averaged_ratings = pd.read_csv('omdb_averaged_ratings.csv').sort_values([\"Release\"])\n",
    "averaged_ratings.head()"
   ]
  },
  {
   "cell_type": "code",
   "execution_count": null,
   "metadata": {},
   "outputs": [],
   "source": [
    "marvel_ratings =averaged_ratings.loc[averaged_ratings['Company_x'] == 'Marvel'].reset_index()\n",
    "marvel_ratings.head()\n",
    "\n",
    "\n",
    "marvel_ratings[\"Avg rating\"].plot(kind='line', color =\"red\", label=\"Marvel\")\n",
    "plt.title(\"Marvel Averaged Ratings (IMDB,Rotten Tomatoes, MetaScore,Metacritic)\")\n",
    "plt.xlabel(\"Movie\")\n",
    "plt.ylabel(\"Avg Rating\")\n",
    "plt.savefig(\"Marvel Rating.png\")\n",
    "\n",
    "plt.show()"
   ]
  },
  {
   "cell_type": "code",
   "execution_count": null,
   "metadata": {},
   "outputs": [],
   "source": [
    "dc_ratings =averaged_ratings.loc[averaged_ratings['Company_x'] == 'DC'].reset_index()\n",
    "dc_ratings.head()\n",
    "\n",
    "\n",
    "dc_ratings[\"Avg rating\"].plot(kind='line', color =\"darkblue\")\n",
    "plt.title(\"DC Averaged Ratings (IMDB,Rotten Tomatoes, MetaScore,Metacritic)\")\n",
    "plt.xlabel(\"Movie\")\n",
    "plt.ylabel(\"Avg Rating\")\n",
    "plt.savefig(\"DC Rating.png\")\n",
    "\n",
    "\n",
    "plt.show()"
   ]
  },
  {
   "cell_type": "code",
   "execution_count": null,
   "metadata": {},
   "outputs": [],
   "source": [
    "dc_ratings[\"Avg rating\"].plot(kind='line', color =\"darkblue\", label =\"DC\")\n",
    "marvel_ratings[\"Avg rating\"].plot(kind='line', color =\"red\", label=\"Marvel\")\n",
    "\n",
    "plt.title(\"Marvel vs DC: Averaged Ratings (IMDB,Rotten Tomatoes, MetaScore,Metacritic)\")\n",
    "plt.xlabel(\"Movie\")\n",
    "plt.ylabel(\"Avg Rating\")\n",
    "plt.savefig(\"Marvel v DC Rating.png\")\n",
    "\n",
    "plt.legend(loc=\"best\")\n",
    "plt.show()"
   ]
  },
  {
   "cell_type": "code",
   "execution_count": null,
   "metadata": {},
   "outputs": [],
   "source": [
    "dc_ratings[\"Avg rating\"].hist(bins=10, color=\"darkblue\")\n",
    "plt.title(\"Histogram: DC Ratings per Movie\")\n",
    "plt.savefig(\"Histogram DC rating per movie.png\")\n",
    "plt.show()"
   ]
  },
  {
   "cell_type": "code",
   "execution_count": null,
   "metadata": {},
   "outputs": [],
   "source": [
    "marvel_ratings[\"Avg rating\"].hist(bins=10, color=\"red\")\n",
    "plt.title(\"Histogram: Marvel Ratings per Movie\")\n",
    "plt.savefig(\"Histogram Marvel rating per movie.png\")\n",
    "plt.show()"
   ]
  },
  {
   "cell_type": "code",
   "execution_count": null,
   "metadata": {
    "scrolled": true
   },
   "outputs": [],
   "source": [
    "averaged_ratings[\"Avg rating\"].hist(bins=10, color=\"red\")\n",
    "plt.title(\"Histogram: Super-Hero Ratings per Movie\")\n",
    "plt.savefig(\"Histogram Super-Hero rating per movie.png\")\n",
    "plt.show()"
   ]
  }
 ],
 "metadata": {
  "kernelspec": {
   "display_name": "Python 3",
   "language": "python",
   "name": "python3"
  },
  "language_info": {
   "codemirror_mode": {
    "name": "ipython",
    "version": 3
   },
   "file_extension": ".py",
   "mimetype": "text/x-python",
   "name": "python",
   "nbconvert_exporter": "python",
   "pygments_lexer": "ipython3",
   "version": "3.6.3"
  }
 },
 "nbformat": 4,
 "nbformat_minor": 2
}
