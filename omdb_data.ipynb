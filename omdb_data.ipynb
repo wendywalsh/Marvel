{
 "cells": [
  {
   "cell_type": "code",
   "execution_count": null,
   "metadata": {},
   "outputs": [],
   "source": [
    "import pandas as pd\n",
    "import requests"
   ]
  },
  {
   "cell_type": "code",
   "execution_count": null,
   "metadata": {},
   "outputs": [],
   "source": [
    "# CSV file into dataframe  (https://www.statcrunch.com/app/index.php?dataid=1150559)\n",
    "marvel_movie_list = pd.read_csv('marvel_vs_dc_movies.csv').sort_values([\"Release\"])\n",
    "\n",
    "marvel_movie_list.head()"
   ]
  },
  {
   "cell_type": "code",
   "execution_count": null,
   "metadata": {},
   "outputs": [],
   "source": [
    "movies = marvel_movie_list[\"Film\"].tolist()\n",
    "movies"
   ]
  },
  {
   "cell_type": "code",
   "execution_count": null,
   "metadata": {},
   "outputs": [],
   "source": [
    "marvel_dc_movie_info = pd.DataFrame(columns=['Company', 'Film', 'Release Year', 'Rated', 'Director','BoxOffice',\n",
    "                                             'Internet Movie Database','Rotten Tomatoes', 'Metacritic','Metascore',\n",
    "                                             'imdb','imdbVotes'])\n",
    "\n",
    "url = \"http://www.omdbapi.com/?apikey=f39952c&t=\"\n",
    "\n",
    "for movie in movies:\n",
    "    try: # approx 5 movie title not found in site\n",
    "        _movie = requests.get(url + movie).json()\n",
    "        title = _movie['Title']\n",
    "        year = _movie['Year']\n",
    "        rated = _movie['Rated']\n",
    "        director = _movie['Director']\n",
    "        boxoffice = _movie['BoxOffice']\n",
    "        int_mov_db= _movie['Ratings'][0]['Value']\n",
    "        rotten =_movie['Ratings'][1]['Value']\n",
    "        metacritic=_movie['Ratings'][2]['Value']\n",
    "        metascore =_movie['Metascore']\n",
    "        imdb =_movie['imdbRating']\n",
    "        imdbVotes =_movie['imdbVotes']\n",
    "        marvel_dc_movie_info = marvel_dc_movie_info.append({'Film':title, 'Release Year':year, \n",
    "                                                            'Rated':rated,'Director':director,\n",
    "                                                            'BoxOffice':boxoffice, 'Internet Movie Database':int_mov_db,\n",
    "                                                            'Rotten Tomatoes':rotten, 'Metacritic':metacritic,'Metascore':metascore,\n",
    "                                                            'imdb':imdb,'imdbVotes':imdbVotes}, ignore_index=True)\n",
    "    except Exception:#Error : \"Title\"\n",
    "        pass\n",
    "    \n",
    "marvel_dc_movie_info.sort_values([\"Release Year\"])\n",
    "marvel_dc_movie_info.head()"
   ]
  },
  {
   "cell_type": "code",
   "execution_count": null,
   "metadata": {},
   "outputs": [],
   "source": [
    "# Merge of original csv and OMDB data\n",
    "marvel_dc_merged_df = marvel_movie_list.merge(marvel_dc_movie_info, on=\"Film\", how='left')\n",
    "marvel_dc_merged= marvel_dc_merged_df.filter(items=['Company_x', 'Film','Release','Adjusted','Worldwide','Domestic','Foreign','Rated','Director','Internet Movie Database','Rotten Tomatoes','Metacritic','Metascore','imdb','imdbVotes'])\n",
    "marvel_dc_merged\n",
    "#marvel_dc_merged.set_index(\"Company_x\")"
   ]
  },
  {
   "cell_type": "code",
   "execution_count": null,
   "metadata": {},
   "outputs": [],
   "source": [
    "# marvel_dc_merged.to_csv('csv_omdb_merged.csv')"
   ]
  },
  {
   "cell_type": "code",
   "execution_count": null,
   "metadata": {},
   "outputs": [],
   "source": []
  }
 ],
 "metadata": {
  "kernelspec": {
   "display_name": "Python 3",
   "language": "python",
   "name": "python3"
  },
  "language_info": {
   "codemirror_mode": {
    "name": "ipython",
    "version": 3
   },
   "file_extension": ".py",
   "mimetype": "text/x-python",
   "name": "python",
   "nbconvert_exporter": "python",
   "pygments_lexer": "ipython3",
   "version": "3.6.3"
  }
 },
 "nbformat": 4,
 "nbformat_minor": 2
}
