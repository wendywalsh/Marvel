{
 "cells": [
  {
   "cell_type": "code",
   "execution_count": null,
   "metadata": {},
   "outputs": [],
   "source": [
    "#import libraries\n",
    "import pandas as pd\n",
    "import glob\n",
    "import os\n",
    "import numpy as np\n",
    "import matplotlib.pyplot as plt\n",
    "from matplotlib import style\n",
    "import matplotlib.patches as mpatches\n",
    "style.use('ggplot')\n",
    "import scipy.stats as stats\n",
    "from scipy.stats import linregress,sem,ttest_ind"
   ]
  },
  {
   "cell_type": "code",
   "execution_count": null,
   "metadata": {},
   "outputs": [],
   "source": [
    "# initialize list of years to process\n",
    "yrs_to_process=[1997,1998,1999,2000,2001,2002,2003,2004,2005,2006,2007,2008,2009,2010,2011,2012,2013,\n",
    "                 2014,2015,2016,2017]\n",
    "\n",
    "#list to hold marvel monthly count for a year\n",
    "# marvel_mntly_top_thirty = []\n",
    "#list to hold DC monthly count for a year\n",
    "# dc_mntly_top_ten = []\n",
    "\n",
    "#attributes /column names needed to plot charts\n",
    "publishers_attributes = [\"Marvel_Top_Thirty\",\"DC_Top_Thirty\",'Others_Top_Thirty','Marvel_Total_Sold',\n",
    "                         'DC_Total_Sold','Others_Sold','Total_Sold','Total_Sales','Marvel_Total_Sales','DC_Total_Sales',\n",
    "                         \"Other_Total_Sales\",'Marvel_price_avg','DC_price_avg','Others_price_avg'\n",
    "                         ]\n",
    "\n",
    "#create publishers stats dataframe with years as the index and attributes as columns\n",
    "publishers_stats_df = pd.DataFrame(index=yrs_to_process ,columns=publishers_attributes)\n",
    "# df_publishers_total_sold = pd.DataFrame(index=yrs_to_process ,columns=\"Marvel\",\"DC\",'Others')\n",
    "#initialize all columns to zero\n",
    "publishers_stats_df = publishers_stats_df.fillna(value=0)\n",
    "\n",
    "\n",
    "\n",
    "# through all years initialized in dataframe\n",
    "for index,row in publishers_stats_df.iterrows():\n",
    "    #list to hold marvel monthly count for a year\n",
    "    #reset marvel and DC monthly top 10 stats list when processing every year\n",
    "    marvel_mntly_top_thirty = []\n",
    "    dc_mntly_top_thirty = []\n",
    "\n",
    "    \n",
    "    #process each monthly json file for the year being processed\n",
    "    for comichron_json in glob.glob(\"./source-data/\" + str(index) + \"-*.json\"):\n",
    "        if os.path.isfile(comichron_json):\n",
    "            #print(f\"Processing file {comichron_json}\")\n",
    "            #read json file\n",
    "            monthly_df = pd.read_json(comichron_json)\n",
    "            \n",
    "            monthly_df[\"Year\"] = index\n",
    "            monthly_df[\"fileName\"] = comichron_json\n",
    "            \n",
    "            #sum monthly count of comic books sold and add it to running total in publishers stats dataframe\n",
    "            row['Total_Sold'] = row['Total_Sold'] + monthly_df[\"count\"].sum()\n",
    "            #sum monthly count of comic books for Marvel sold and add it to running total in publishers stats dataframe\n",
    "            row['Marvel_Total_Sold'] += monthly_df[monthly_df[\"publisher\"] == 'Marvel'][\"count\"].sum()\n",
    "            #sum monthly count of comic books for DC sold and add it to running total in publishers stats dataframe\n",
    "            row['DC_Total_Sold'] += monthly_df[monthly_df[\"publisher\"] == 'DC'][\"count\"].sum()\n",
    "            \n",
    "            #sort and get top thirty comics sold\n",
    "            monthly_top_30 = monthly_df.sort_values(by = \"count\" ,ascending=False ).head(30)\n",
    "            #count how many times marvel occur in top 30\n",
    "            marvel_mntly_top_thirty.append(len(monthly_top_30[monthly_top_30[\"publisher\"] == 'Marvel']))\n",
    "            #count how many times DC occur in top 30\n",
    "            dc_mntly_top_thirty.append(len(monthly_top_30[monthly_top_30[\"publisher\"] == 'DC']))\n",
    "            \n",
    "\n",
    "            monthly_df[\"fprice\"] = monthly_df[\"price\"].str.replace(\"$\",\"\")\n",
    "            monthly_df[\"fprice\"] = pd.to_numeric(monthly_df[\"fprice\"])\n",
    "            monthly_df[\"fcount\"] = monthly_df[\"count\"].astype(float)\n",
    "            monthly_df[\"sales\"] = monthly_df.fprice * monthly_df.fcount \n",
    "            row['Total_Sales'] += monthly_df[\"sales\"].sum()\n",
    "            row['Marvel_Total_Sales'] += monthly_df[monthly_df[\"publisher\"] == 'Marvel'][\"sales\"].sum()\n",
    "            row['DC_Total_Sales'] += monthly_df[monthly_df[\"publisher\"] == 'DC'][\"sales\"].sum()\n",
    "            \n",
    "            \n",
    "    \n",
    "    #calculate average for the year\n",
    "    row[\"Marvel_Top_Thirty\"] = np.mean(marvel_mntly_top_thirty)\n",
    "    row[\"DC_Top_Thirty\"] = np.mean(dc_mntly_top_thirty)\n",
    "    row[\"Others_Top_Thirty\"] = 30 - (row[\"Marvel_Top_Thirty\"] + row[\"DC_Top_Thirty\"])\n",
    "    row[\"Others_Sold\"] = row['Total_Sold'] - (row[\"Marvel_Total_Sold\"] + row[\"DC_Total_Sold\"])\n",
    "    row[\"Other_Total_Sales\"] = row['Total_Sales'] - (row[\"Marvel_Total_Sales\"] + row[\"DC_Total_Sales\"])\n",
    "    row['Marvel_price_avg'] = (row['Marvel_Total_Sales']/row[\"Marvel_Total_Sold\"])\n",
    "    row['DC_price_avg'] = row['DC_Total_Sales']/row[\"DC_Total_Sold\"]\n",
    "    row['Others_price_avg'] = row[\"Other_Total_Sales\"] /row[\"Others_Sold\"]\n",
    "\n",
    "\n"
   ]
  },
  {
   "cell_type": "code",
   "execution_count": null,
   "metadata": {},
   "outputs": [],
   "source": [
    "publishers_stats_df"
   ]
  },
  {
   "cell_type": "code",
   "execution_count": null,
   "metadata": {},
   "outputs": [],
   "source": [
    "#name index to year ,reset index and display calculated stats\n",
    "dfs = np.split(publishers_stats_df, [3], axis=1)\n",
    "top_30_publishers_stats_df = dfs[0]\n",
    "top_30_publishers_stats_df = top_30_publishers_stats_df.reset_index()\n",
    "top_30_publishers_stats_df = top_30_publishers_stats_df.rename(columns={'index': 'Year', \n",
    "                                                                        'Marvel_Top_Thirty': 'Marvel',\n",
    "                                                                        'DC_Top_Thirty': 'DC',\n",
    "                                                                        'Others_Top_Thirty': 'Others'  })\n",
    "total_sold_publishers_stats_df = dfs[1]\n",
    "total_sold_publishers_stats_df = total_sold_publishers_stats_df.reset_index()\n",
    "total_sold_publishers_stats_df = total_sold_publishers_stats_df.rename(columns={'index': 'Year', \n",
    "                                                                        'Marvel_Total_Sold': 'Marvel',\n",
    "                                                                        'DC_Total_Sold': 'DC',\n",
    "                                                                        'Others_Sold': 'Others',       \n",
    "                                                                        'Total_Sold': 'Total'  })\n",
    "total_sold_publishers_stats_df \n",
    "dfs = np.split(dfs[1], [4], axis=1)\n",
    "total_sales_publishers_stats_df = dfs[1]\n",
    "total_sales_publishers_stats_df = total_sales_publishers_stats_df.reset_index()\n",
    "total_sales_publishers_stats_df = total_sales_publishers_stats_df.rename(columns={'index': 'Year', \n",
    "                                                                        'Total_Sales': 'Total',\n",
    "                                                                        'DC_Total_Sales': 'DC',\n",
    "                                                                        'Marvel_Total_Sales': 'Marvel' , \n",
    "                                                                        'Other_Total_Sales': 'Others'})\n",
    "total_sales_publishers_stats_df"
   ]
  },
  {
   "cell_type": "code",
   "execution_count": null,
   "metadata": {},
   "outputs": [],
   "source": [
    "top_30_publishers_stats_df\n"
   ]
  },
  {
   "cell_type": "code",
   "execution_count": null,
   "metadata": {},
   "outputs": [],
   "source": [
    "total_sold_publishers_stats_df"
   ]
  },
  {
   "cell_type": "code",
   "execution_count": null,
   "metadata": {},
   "outputs": [],
   "source": [
    "ax = top_30_publishers_stats_df[[\"Marvel\",\"DC\",\"Others\"]]\\\n",
    "                        .plot(kind='bar',figsize=(15, 10),stacked = True,\\\n",
    "                         title=\"Marvel vs Dc vs Others Top 30 Comic Books Sold\")\n",
    "ax.set_xticklabels(yrs_to_process,rotation=45)\n",
    "ax.legend(bbox_to_anchor=(1.05, 1), loc=2, borderaxespad=0.,title=\"Publishers\")\n",
    "plt.show()"
   ]
  },
  {
   "cell_type": "code",
   "execution_count": null,
   "metadata": {},
   "outputs": [],
   "source": [
    "# stats.ttest_ind(total_sold_publishers_stats_df[\"Total\"], total_sold_publishers_stats_df[\"DC\"], equal_var=False)"
   ]
  },
  {
   "cell_type": "code",
   "execution_count": null,
   "metadata": {
    "scrolled": true
   },
   "outputs": [],
   "source": [
    "ax = total_sold_publishers_stats_df[[\"Marvel\",\"DC\"]].plot(kind='bar',figsize=(20, 10))\n",
    "ax.set_xticklabels(yrs_to_process,rotation=45)\n",
    "ax.legend(bbox_to_anchor=(1.05, 1), loc=2, borderaxespad=0.,title=\"Publishers\")\n",
    "# Set x and y limits\n",
    "# plt.xlim(-0.25, len(x_axis))\n",
    "# plt.ylim(0, max(rain_df[\"Inches\"])+10)\n",
    "plt.title(\"Marvel vs DC Total Comic Books Sold \")\n",
    "plt.xlabel(\"Years\")\n",
    "plt.ylabel(\"Comics Sold (Tens of Millions)\")\n",
    "plt.show()\n"
   ]
  },
  {
   "cell_type": "code",
   "execution_count": null,
   "metadata": {},
   "outputs": [],
   "source": [
    "(t_stat_marvel,p_marvel) = ttest_ind(total_sold_publishers_stats_df[\"Total\"],\n",
    "                                     total_sold_publishers_stats_df[\"Marvel\"], equal_var=False)\n",
    "(t_stat_dc,p_dc) = ttest_ind(total_sold_publishers_stats_df[\"Total\"],\n",
    "                                 total_sold_publishers_stats_df[\"DC\"], equal_var=False)\n",
    "(t_stat_others,p_others) = ttest_ind(total_sold_publishers_stats_df[\"Total\"],\n",
    "                                 total_sold_publishers_stats_df[\"Others\"], equal_var=False)"
   ]
  },
  {
   "cell_type": "code",
   "execution_count": null,
   "metadata": {},
   "outputs": [],
   "source": [
    "if p_marvel < 0.05:\n",
    "    print(\"The difference in sample means is significant for Marvel.\")\n",
    "else:\n",
    "    print(\"The difference in sample means is not significant for Marvel.\")"
   ]
  },
  {
   "cell_type": "code",
   "execution_count": null,
   "metadata": {},
   "outputs": [],
   "source": [
    "if p_dc < 0.05:\n",
    "    print(\"The difference in sample means is significant for DC.\")\n",
    "else:\n",
    "    print(\"The difference in sample means is not significant for Marvel.\")"
   ]
  },
  {
   "cell_type": "code",
   "execution_count": null,
   "metadata": {},
   "outputs": [],
   "source": [
    "tick_labels = [\"Total\",\"Marvel\",\"DC\",\"Others\"]\n",
    "means = [total_sold_publishers_stats_df[\"Total\"].mean(),total_sold_publishers_stats_df[\"Marvel\"].mean(),\n",
    "         total_sold_publishers_stats_df[\"DC\"].mean(),total_sold_publishers_stats_df[\"Others\"].mean()]\n",
    "x_axis = np.arange(0,len(means),1)\n",
    "means"
   ]
  },
  {
   "cell_type": "code",
   "execution_count": null,
   "metadata": {},
   "outputs": [],
   "source": [
    "sem = [sem(total_sold_publishers_stats_df[\"Total\"]),\n",
    "        sem(total_sold_publishers_stats_df[\"Marvel\"]),\n",
    "        sem(total_sold_publishers_stats_df[\"DC\"]),\n",
    "       sem(total_sold_publishers_stats_df[\"Others\"])]\n",
    "sem\n"
   ]
  },
  {
   "cell_type": "code",
   "execution_count": null,
   "metadata": {},
   "outputs": [],
   "source": [
    "plt.errorbar(x_axis,means,sem,fmt=\"o\",color='red')\n",
    "plt.title(\"Average Comics sold vs Marvel vs DC vs Others\")\n",
    "plt.xlim(-0.5,3.5)\n",
    "plt.ylim(0,85000000)\n",
    "plt.xticks(x_axis,tick_labels)\n",
    "plt.figure(figsize=(20,10))\n",
    "plt.show()"
   ]
  },
  {
   "cell_type": "code",
   "execution_count": null,
   "metadata": {},
   "outputs": [],
   "source": [
    "# Labels for the sections of our pie chart\n",
    "labels = [\"Marvel\", \"DC\", \"Others\"]\n",
    "\n",
    "# The values of each section of the pie chart\n",
    "sizes = []\n",
    "sizes.append(publishers_stats_df[\"Marvel_Total_Sales\"].sum())\n",
    "sizes.append(publishers_stats_df[\"DC_Total_Sales\"].sum())\n",
    "sizes.append(publishers_stats_df[\"Other_Total_Sales\"].sum())\n",
    "\n",
    "\n",
    "# The colors of each section of the pie chart\n",
    "# colors = [\"yellowgreen\", \"red\", \"lightcoral\", \"lightskyblue\"]\n",
    "\n",
    "explode = (0.1, 0, 0)\n",
    "sizes"
   ]
  },
  {
   "cell_type": "code",
   "execution_count": null,
   "metadata": {},
   "outputs": [],
   "source": [
    "# Creates the pie chart based upon the values above\n",
    "# Automatically finds the percentages of each part of the pie chart\n",
    "plt.pie(sizes, explode=explode, labels=labels, \n",
    "        autopct=\"%1.1f%%\", shadow=True, startangle=140)"
   ]
  },
  {
   "cell_type": "code",
   "execution_count": null,
   "metadata": {},
   "outputs": [],
   "source": [
    "# Tells matplotlib that we want a pie chart with equal axes\n",
    "plt.axis(\"equal\")\n",
    "plt.title(\"% of Total Sales by Publisher (1997-2017) $\"\n",
    "          + str(round(publishers_stats_df[\"Total_Sales\"].sum()/1000000000,1)) + \" Net Billion\")\n",
    "plt.show()"
   ]
  },
  {
   "cell_type": "code",
   "execution_count": null,
   "metadata": {},
   "outputs": [],
   "source": [
    "# stats.ttest_ind(publishers_stats_df[\"Marvel_Total_Sales\"], publishers_stats_df[\"DC_Total_Sales\"], equal_var=False)"
   ]
  },
  {
   "cell_type": "code",
   "execution_count": null,
   "metadata": {},
   "outputs": [],
   "source": [
    "\n",
    "(total_sold_marvel_slope, total_sold_marvel_int, _, _, _) = linregress(total_sales_publishers_stats_df[\"Year\"],\n",
    "                                                                total_sales_publishers_stats_df[\"Marvel\"])\n",
    "total_sold_marvel_fit = total_sold_marvel_slope * total_sales_publishers_stats_df[\"Year\"] + total_sold_marvel_int"
   ]
  },
  {
   "cell_type": "code",
   "execution_count": null,
   "metadata": {},
   "outputs": [],
   "source": [
    "# Year = 2022\n",
    "yrs_to_predict=[2018,2019,2020,2021,2022,2023,2024,2025,2026,2027,2028,2029,2030]\n",
    "marvel_sales_predict = []\n",
    "for Year in yrs_to_predict:\n",
    "    sales_predict = total_sold_marvel_slope * Year + total_sold_marvel_int\n",
    "    print(f\"The total comics sales prediction for Marvel in {Year} will be {sales_predict}.\")\n",
    "    marvel_sales_predict.append(sales_predict)"
   ]
  },
  {
   "cell_type": "code",
   "execution_count": null,
   "metadata": {},
   "outputs": [],
   "source": [
    "(dc_sales_slope, dc_sales_int, _, _, _) = linregress(total_sales_publishers_stats_df[\"Year\"], total_sales_publishers_stats_df[\"DC\"])\n",
    "dc_sales_fit = dc_sales_slope * total_sales_publishers_stats_df[\"Year\"] + dc_sales_int"
   ]
  },
  {
   "cell_type": "code",
   "execution_count": null,
   "metadata": {},
   "outputs": [],
   "source": [
    "# Year = 2022\n",
    "yrs_to_predict=[2018,2019,2020,2021,2022,2023,2024,2025,2026,2027,2028,2029,2030]\n",
    "dc_sales_predict = []\n",
    "for Year in yrs_to_predict:\n",
    "    sales_predict = dc_sales_slope * Year + dc_sales_int\n",
    "    print(f\"The total comics sales prediction for DC in {Year} will be {sales_predict}.\")\n",
    "    dc_sales_predict.append(sales_predict)"
   ]
  },
  {
   "cell_type": "code",
   "execution_count": null,
   "metadata": {},
   "outputs": [],
   "source": [
    "sales_predictions_df = pd.DataFrame({\n",
    "    \"Year\":yrs_to_predict,\n",
    "    \"Marvel\":marvel_sales_predict,\n",
    "    \"DC\":dc_sales_predict\n",
    "    \n",
    "})\n",
    "sales_predictions_df"
   ]
  },
  {
   "cell_type": "code",
   "execution_count": null,
   "metadata": {},
   "outputs": [],
   "source": [
    "ax = sales_predictions_df[[\"Marvel\",\"DC\"]].plot(kind='bar',figsize=(20, 10))\n",
    "ax.set_xticklabels(yrs_to_predict,rotation=45)\n",
    "ax.legend(bbox_to_anchor=(1.05, 1), loc=2, borderaxespad=0.,title=\"Publishers\")\n",
    "# Set x and y limits\n",
    "# plt.xlim(-0.25, len(x_axis))\n",
    "# plt.ylim(0, max(rain_df[\"Inches\"])+10)\n",
    "plt.title(\"Marvel vs DC Total Comic Books Sales Prediction \")\n",
    "plt.xlabel(\"Years\")\n",
    "plt.ylabel(\"Comics Sold (Tens of Millions)\")\n",
    "plt.show()"
   ]
  },
  {
   "cell_type": "code",
   "execution_count": null,
   "metadata": {},
   "outputs": [],
   "source": []
  }
 ],
 "metadata": {
  "kernelspec": {
   "display_name": "Python 3",
   "language": "python",
   "name": "python3"
  },
  "language_info": {
   "codemirror_mode": {
    "name": "ipython",
    "version": 3
   },
   "file_extension": ".py",
   "mimetype": "text/x-python",
   "name": "python",
   "nbconvert_exporter": "python",
   "pygments_lexer": "ipython3",
   "version": "3.6.3"
  }
 },
 "nbformat": 4,
 "nbformat_minor": 2
}
