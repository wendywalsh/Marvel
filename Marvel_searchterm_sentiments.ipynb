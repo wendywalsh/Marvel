{
 "cells": [
  {
   "cell_type": "code",
   "execution_count": 11,
   "metadata": {},
   "outputs": [],
   "source": [
    "# Dependencies\n",
    "import tweepy\n",
    "import numpy as np\n",
    "import matplotlib.pyplot as plt\n",
    "import pandas as pd\n",
    "import json\n",
    "from datetime import datetime\n",
    "\n",
    "from matplotlib.font_manager import FontProperties\n",
    "# Import and Initialize Sentiment Analyzer\n",
    "from vaderSentiment.vaderSentiment import SentimentIntensityAnalyzer\n",
    "analyzer = SentimentIntensityAnalyzer()\n",
    "\n",
    "\n",
    "\n",
    "consumer_key = \"TGDqoDcZ78oCkGELnJBNZ5Kqp\"\n",
    "consumer_secret = \"7klQOxIGIBmWxM8rM7nWD1lbdbV52GaA32gyGrCQ7AK8lHEm4j\"\n",
    "access_token = \"930560529235632129-kNbJ2QLKvUufTBYthhjmMxPYSIErvzh\"\n",
    "access_token_secret = \"jA4Xffc49DoSuoou3XaF0u4YQY1zTvUIcJOjYFo92TAGZ\"\n",
    "\n",
    "# Setup Tweepy API Authentication\n",
    "auth = tweepy.OAuthHandler(consumer_key, consumer_secret)\n",
    "auth.set_access_token(access_token, access_token_secret)\n",
    "api = tweepy.API(auth, parser=tweepy.parsers.JSONParser())"
   ]
  },
  {
   "cell_type": "code",
   "execution_count": 12,
   "metadata": {},
   "outputs": [
    {
     "ename": "TweepError",
     "evalue": "[{'code': 195, 'message': 'Missing or invalid url parameter.'}]",
     "output_type": "error",
     "traceback": [
      "\u001b[0;31m---------------------------------------------------------------------------\u001b[0m",
      "\u001b[0;31mTweepError\u001b[0m                                Traceback (most recent call last)",
      "\u001b[0;32m<ipython-input-12-f5af216042c8>\u001b[0m in \u001b[0;36m<module>\u001b[0;34m()\u001b[0m\n\u001b[1;32m     23\u001b[0m         \u001b[0;31m# Run search around each tweet\u001b[0m\u001b[0;34m\u001b[0m\u001b[0;34m\u001b[0m\u001b[0m\n\u001b[1;32m     24\u001b[0m         public_tweets = api.search(\n\u001b[0;32m---> 25\u001b[0;31m             target, count=100, result_type=\"recent\", max_id=oldest_tweet)\n\u001b[0m\u001b[1;32m     26\u001b[0m \u001b[0;34m\u001b[0m\u001b[0m\n\u001b[1;32m     27\u001b[0m         \u001b[0;31m# Loop through all tweets\u001b[0m\u001b[0;34m\u001b[0m\u001b[0;34m\u001b[0m\u001b[0m\n",
      "\u001b[0;32m~/anaconda/envs/py36/lib/python3.6/site-packages/tweepy/binder.py\u001b[0m in \u001b[0;36m_call\u001b[0;34m(*args, **kwargs)\u001b[0m\n\u001b[1;32m    243\u001b[0m             \u001b[0;32mreturn\u001b[0m \u001b[0mmethod\u001b[0m\u001b[0;34m\u001b[0m\u001b[0m\n\u001b[1;32m    244\u001b[0m         \u001b[0;32melse\u001b[0m\u001b[0;34m:\u001b[0m\u001b[0;34m\u001b[0m\u001b[0m\n\u001b[0;32m--> 245\u001b[0;31m             \u001b[0;32mreturn\u001b[0m \u001b[0mmethod\u001b[0m\u001b[0;34m.\u001b[0m\u001b[0mexecute\u001b[0m\u001b[0;34m(\u001b[0m\u001b[0;34m)\u001b[0m\u001b[0;34m\u001b[0m\u001b[0m\n\u001b[0m\u001b[1;32m    246\u001b[0m \u001b[0;34m\u001b[0m\u001b[0m\n\u001b[1;32m    247\u001b[0m     \u001b[0;31m# Set pagination mode\u001b[0m\u001b[0;34m\u001b[0m\u001b[0;34m\u001b[0m\u001b[0m\n",
      "\u001b[0;32m~/anaconda/envs/py36/lib/python3.6/site-packages/tweepy/binder.py\u001b[0m in \u001b[0;36mexecute\u001b[0;34m(self)\u001b[0m\n\u001b[1;32m    227\u001b[0m                     \u001b[0;32mraise\u001b[0m \u001b[0mRateLimitError\u001b[0m\u001b[0;34m(\u001b[0m\u001b[0merror_msg\u001b[0m\u001b[0;34m,\u001b[0m \u001b[0mresp\u001b[0m\u001b[0;34m)\u001b[0m\u001b[0;34m\u001b[0m\u001b[0m\n\u001b[1;32m    228\u001b[0m                 \u001b[0;32melse\u001b[0m\u001b[0;34m:\u001b[0m\u001b[0;34m\u001b[0m\u001b[0m\n\u001b[0;32m--> 229\u001b[0;31m                     \u001b[0;32mraise\u001b[0m \u001b[0mTweepError\u001b[0m\u001b[0;34m(\u001b[0m\u001b[0merror_msg\u001b[0m\u001b[0;34m,\u001b[0m \u001b[0mresp\u001b[0m\u001b[0;34m,\u001b[0m \u001b[0mapi_code\u001b[0m\u001b[0;34m=\u001b[0m\u001b[0mapi_error_code\u001b[0m\u001b[0;34m)\u001b[0m\u001b[0;34m\u001b[0m\u001b[0m\n\u001b[0m\u001b[1;32m    230\u001b[0m \u001b[0;34m\u001b[0m\u001b[0m\n\u001b[1;32m    231\u001b[0m             \u001b[0;31m# Parse the response payload\u001b[0m\u001b[0;34m\u001b[0m\u001b[0;34m\u001b[0m\u001b[0m\n",
      "\u001b[0;31mTweepError\u001b[0m: [{'code': 195, 'message': 'Missing or invalid url parameter.'}]"
     ]
    }
   ],
   "source": [
    "target_term =\"Marvel\"\n",
    "\n",
    "counter = 1000\n",
    "\n",
    "sentiments = pd.DataFrame(columns = [\"Tweet Count\",\"Tweet\",\"Compound Score\", \"Positive\",\"Negative\",\"Neutral\",\"Date\"])  #Empty Dataframe\n",
    "                          \n",
    "for target in target_user:\n",
    "    #print(f\"Tweets {counter}.\")\n",
    "    counter = 1000\n",
    "    for x in range(5):\n",
    "        response = api.user_timeline(target, page=x)\n",
    "    \n",
    "        for tweet in range(20):\n",
    "       \n",
    "        # Get all tweets from home feed\n",
    "           # public_tweets = api.user_timeline(target, page=x)\n",
    "            tweets =response[tweet][\"text\"]\n",
    "            name = response[tweet][\"user\"][\"name\"]\n",
    "            date=response[tweet][\"created_at\"]\n",
    "            #print(f\"Tweet{counter}: {tweets}\")\n",
    "        #print(json.dumps(public_tweets, sort_keys=True, indent=4))\n",
    "            results = analyzer.polarity_scores(tweets)\n",
    "            compound = results[\"compound\"]\n",
    "            pos = results[\"pos\"]\n",
    "            neu = results[\"neu\"]\n",
    "            neg = results[\"neg\"]\n",
    "\n",
    "            sentiments=sentiments.append({\"Name\":name, \"Tweet\":tweets, \"Tweet Count\": counter,\n",
    "                                          \"Compound Score\": compound,\"Positive\":pos,\n",
    "                                          \"Negative\":neg,\"Neutral\":neu,\"Date\":date}, ignore_index=True)              \n",
    "           \n",
    "            \n",
    "            #print(f\"tweet{counter}: {name}:{tweets} : {compound}\")\n",
    "            counter -=1"
   ]
  },
  {
   "cell_type": "code",
   "execution_count": null,
   "metadata": {
    "collapsed": true
   },
   "outputs": [],
   "source": [
    "target_user =(\"@BBC\", \"@CNN\", \"@CBS\",\"@FoxNews\", \"@nytimes\")\n",
    "\n",
    "counter = 100\n",
    "\n",
    "sentiments = pd.DataFrame(columns = [\"Name\",\"Tweet Count\",\"Tweet\",\"Compound Score\", \"Positive\",\"Negative\",\"Neutral\",\"Date\"])  #Empty Dataframe\n",
    "                          \n",
    "for target in target_user:\n",
    "    #print(f\"Tweets for {target}.\")\n",
    "    counter = 100\n",
    "    for x in range(5):\n",
    "        response = api.user_timeline(target, page=x)\n",
    "    \n",
    "        for tweet in range(20):\n",
    "       \n",
    "        # Get all tweets from home feed\n",
    "           # public_tweets = api.user_timeline(target, page=x)\n",
    "            tweets =response[tweet][\"text\"]\n",
    "            name = response[tweet][\"user\"][\"name\"]\n",
    "            date=response[tweet][\"created_at\"]\n",
    "            #print(f\"Tweet{counter}: {tweets}\")\n",
    "        #print(json.dumps(public_tweets, sort_keys=True, indent=4))\n",
    "            results = analyzer.polarity_scores(tweets)\n",
    "            compound = results[\"compound\"]\n",
    "            pos = results[\"pos\"]\n",
    "            neu = results[\"neu\"]\n",
    "            neg = results[\"neg\"]\n",
    "\n",
    "            sentiments=sentiments.append({\"Name\":name, \"Tweet\":tweets, \"Tweet Count\": counter,\n",
    "                                          \"Compound Score\": compound,\"Positive\":pos,\n",
    "                                          \"Negative\":neg,\"Neutral\":neu,\"Date\":date}, ignore_index=True)              \n",
    "           \n",
    "            \n",
    "            #print(f\"tweet{counter}: {name}:{tweets} : {compound}\")\n",
    "            counter -=1"
   ]
  }
 ],
 "metadata": {
  "kernelspec": {
   "display_name": "Python 3",
   "language": "python",
   "name": "python3"
  },
  "language_info": {
   "codemirror_mode": {
    "name": "ipython",
    "version": 3
   },
   "file_extension": ".py",
   "mimetype": "text/x-python",
   "name": "python",
   "nbconvert_exporter": "python",
   "pygments_lexer": "ipython3",
   "version": "3.6.2"
  }
 },
 "nbformat": 4,
 "nbformat_minor": 2
}
